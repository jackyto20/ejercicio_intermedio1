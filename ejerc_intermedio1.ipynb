{
 "cells": [
  {
   "cell_type": "markdown",
   "metadata": {},
   "source": [
    "1. Dada una cadena de texto, contar cuántas veces aparece una letra específica en ella. Usa un input para que el usuario elija la letra a buscar.\n",
    "cadena = \"Python es un lenguaje de programación muy popular\""
   ]
  },
  {
   "cell_type": "code",
   "execution_count": 49,
   "metadata": {},
   "outputs": [
    {
     "name": "stdout",
     "output_type": "stream",
     "text": [
      "0\n"
     ]
    }
   ],
   "source": [
    "texto =\"Python es un lenguaje de programación muy popular\"\n",
    "\n",
    "letra = input(\"Por favor ingrese a letra que desea buscar\")\n",
    "\n",
    "resultado = texto.find(letra, 0, 25)\n",
    "\n",
    "print(resultado)\n",
    "\n"
   ]
  },
  {
   "cell_type": "markdown",
   "metadata": {},
   "source": [
    "2. Escribe un programa que tome la siguiente cadena de texto y reemplace una palabra específica por otra palabra. La palabra a reemplazar y reemplazada deben ser elegidas por el usuario. cadena = \"Python es genial. Python es fácil de aprender.\""
   ]
  },
  {
   "cell_type": "code",
   "execution_count": 50,
   "metadata": {},
   "outputs": [
    {
     "name": "stdout",
     "output_type": "stream",
     "text": [
      "Esta es la cadena actualizada: Python es genial. Python es fácil de aprender.\n"
     ]
    }
   ],
   "source": [
    "cadena = \"Python es genial. Python es fácil de aprender.\"\n",
    "\n",
    "reemplazar = input(\"De la frase: 'Python es genial. Python es fácil de aprender'. Por favor ingrese la palabra que desea reemplazar:\")\n",
    "\n",
    "nueva= input(\"Por favor ingrese la nueva palabra\")\n",
    "\n",
    "nueva_cadena = cadena.replace(reemplazar, nueva)\n",
    "\n",
    "print(\"Esta es la cadena actualizada:\", nueva_cadena)"
   ]
  },
  {
   "cell_type": "markdown",
   "metadata": {},
   "source": [
    "3. Toma la siguiente oración y divídela en una lista de palabras. Luego, únelas nuevamente en una sola cadena de texto. oracion = \"Esto es una oración de ejemplo\""
   ]
  },
  {
   "cell_type": "code",
   "execution_count": 51,
   "metadata": {},
   "outputs": [
    {
     "name": "stdout",
     "output_type": "stream",
     "text": [
      "Esta es la oracion dividida: ['Esto', 'es', 'una', 'oración', 'de', 'ejemplo']\n",
      "Esta es la oracion completa: Esto es una oración de ejemplo\n"
     ]
    }
   ],
   "source": [
    "oracion = \"Esto es una oración de ejemplo\"\n",
    "\n",
    "oracion_dividida = oracion.split()\n",
    "\n",
    "print(\"Esta es la oracion dividida:\", oracion_dividida)\n",
    "\n",
    "oracion_unida = \" \" .join(oracion_dividida)\n",
    "\n",
    "print(\"Esta es la oracion completa:\", oracion_unida)"
   ]
  },
  {
   "cell_type": "markdown",
   "metadata": {},
   "source": [
    "4. Desarrolla un programa que cuente cuántas palabras hay en la siguiente frase.\n",
    "cadena = \"Esta es una cadena con cinco palabras\""
   ]
  },
  {
   "cell_type": "code",
   "execution_count": 52,
   "metadata": {},
   "outputs": [
    {
     "name": "stdout",
     "output_type": "stream",
     "text": [
      "la catidad de caracteres es: 37\n"
     ]
    }
   ],
   "source": [
    "cadena = \"Esta es una cadena con cinco palabras\"\n",
    "\n",
    "print(\"la catidad de caracteres es:\", len(cadena))\n"
   ]
  },
  {
   "cell_type": "markdown",
   "metadata": {},
   "source": [
    "5. Escribe un programa que invierta una cadena de texto dada por un usuario. Mira el siguiente ejemplo para entender lo que se pide:\n",
    "# input \n",
    "\"Hola buenos dias\"\n",
    "# output\n",
    "\"dias buenos Hola"
   ]
  },
  {
   "cell_type": "code",
   "execution_count": 109,
   "metadata": {},
   "outputs": [
    {
     "name": "stdout",
     "output_type": "stream",
     "text": [
      "Esta es la frase invertida s o d o t   s o g i m a   a l o h\n"
     ]
    }
   ],
   "source": [
    "frase_usuario= input(\"Por favor ingrese la frase:\")\n",
    "\n",
    "frase_usuario.split()\n",
    "invertida = reversed(frase_usuario)\n",
    "\n",
    "frase_invertida = \" \".join(invertida)\n",
    "\n",
    "print(\"Esta es la frase invertida\", frase_invertida)"
   ]
  },
  {
   "cell_type": "markdown",
   "metadata": {},
   "source": [
    "6. Crea un programa que busque una palabra específica(elegida por la usuaria) en una cadena de texto e indique su posición."
   ]
  },
  {
   "cell_type": "code",
   "execution_count": 102,
   "metadata": {},
   "outputs": [
    {
     "data": {
      "text/plain": [
       "5"
      ]
     },
     "execution_count": 102,
     "metadata": {},
     "output_type": "execute_result"
    }
   ],
   "source": [
    "frase1 = \"Hola amigos, que tal\"\n",
    "palabra = input(\"Ingrese la palabra que desea buscar de la frase 'Hola amigos, que tal'\")\n",
    "\n",
    "frase1.find(palabra, 0, 20)\n",
    "\n"
   ]
  },
  {
   "cell_type": "markdown",
   "metadata": {},
   "source": [
    "1. Dada la siguiente lista: frutas = ['manzana', 'pera', 'banana', 'uva', 'kiwi'], realiza \n",
    "lo siguiente:\n",
    "a) Reemplaza el segundo elemento con 'durazno'.\n",
    "b) Agrega 'naranja' al final de la lista.\n",
    "c) Extrae y muestra por pantalla el tercer elemento de la lista.\n"
   ]
  },
  {
   "cell_type": "code",
   "execution_count": null,
   "metadata": {},
   "outputs": [],
   "source": [
    "frutas = ['manzana', 'pera', 'banana', 'uva', 'kiwi']\n",
    "\n",
    "frutas[1] = \"durazno\"\n",
    "\n",
    "print(\"La lista actualizada es\", frutas)\n",
    "\n",
    "frutas.append(\"naranja\")\n",
    "\n",
    "print(\"La lista con el nuevo elementos es\", frutas)\n",
    "\n",
    "print(\"Este es el tercer elemento de la lista:\",frutas[2])\n",
    "\n",
    "\n",
    "\n",
    "\n",
    "\n",
    "\n"
   ]
  },
  {
   "cell_type": "markdown",
   "metadata": {},
   "source": [
    "2. Crea una lista llamada numeros que contenga los siguientes valores: 10, 25, 15, 30, 20"
   ]
  },
  {
   "cell_type": "code",
   "execution_count": null,
   "metadata": {},
   "outputs": [],
   "source": [
    "numeros =[10, 25, 15, 30, 20]\n",
    "\n",
    "print(\"La lista creadad es\", numeros)"
   ]
  },
  {
   "cell_type": "markdown",
   "metadata": {},
   "source": [
    "3. Agrega el valor 35 al incio de la lista numeros."
   ]
  },
  {
   "cell_type": "code",
   "execution_count": null,
   "metadata": {},
   "outputs": [],
   "source": [
    "numeros[0] = 35\n",
    "\n",
    "print(numeros)"
   ]
  },
  {
   "cell_type": "markdown",
   "metadata": {},
   "source": [
    "4. Ordena la lista numeros en orden ascendente."
   ]
  },
  {
   "cell_type": "code",
   "execution_count": null,
   "metadata": {},
   "outputs": [],
   "source": [
    "numeros.sort()\n",
    "print(\"Esta es la lista ordenada de mayor a menor:\", numeros)"
   ]
  },
  {
   "cell_type": "markdown",
   "metadata": {},
   "source": [
    "5. Dada la siguiente lista numeros2 = [45, 22, 19, 38, 29]. Crea una nueva lista llamada numeros3 donde tengamos la unión de los todos los elementos de las dos listas (numeros y numeros2) de tal forma que el resultado final sea:\n",
    "numeros3 = [10, 25, 15, 30, 20, 45, 22, 19, 38, 29]"
   ]
  },
  {
   "cell_type": "code",
   "execution_count": null,
   "metadata": {},
   "outputs": [],
   "source": [
    "numeros2 = [45, 22, 19, 38, 29]\n",
    "\n",
    "\n",
    "completa[] = numeros.extend(numeros2)\n",
    "\n",
    "numeros3.extented(completa)\n",
    "\n",
    "\n",
    "\n",
    "print(\"Esta es la lista completa:\", numeros3)"
   ]
  },
  {
   "cell_type": "markdown",
   "metadata": {},
   "source": [
    "6.Elimina el último elemento de la lista numeros3."
   ]
  },
  {
   "cell_type": "code",
   "execution_count": null,
   "metadata": {},
   "outputs": [],
   "source": []
  },
  {
   "cell_type": "markdown",
   "metadata": {},
   "source": [
    "7. Elimina el número 30 de la lista numeros3."
   ]
  },
  {
   "cell_type": "code",
   "execution_count": null,
   "metadata": {},
   "outputs": [],
   "source": []
  },
  {
   "cell_type": "markdown",
   "metadata": {},
   "source": [
    "1. Crea una tupla llamada colores que contenga los siguientes valores: 'rojo', 'verde', 'azul', 'amarillo', 'morado'."
   ]
  },
  {
   "cell_type": "code",
   "execution_count": null,
   "metadata": {},
   "outputs": [],
   "source": [
    "colores = ['rojo', 'verde', 'azul', 'amarillo', 'morado']\n",
    "\n",
    "print(\"Los elementos de la tupla son:\", colores)"
   ]
  },
  {
   "cell_type": "markdown",
   "metadata": {},
   "source": [
    "2. Encuentra el índice de 'verde' en la tupla colores."
   ]
  },
  {
   "cell_type": "code",
   "execution_count": null,
   "metadata": {},
   "outputs": [],
   "source": [
    "\n",
    "print(\"El indice del elementos verdes es\", colores.index(\"verde\"))"
   ]
  },
  {
   "cell_type": "markdown",
   "metadata": {},
   "source": [
    "3. ¿Cuántas veces aparece 'azul' en la tupla colores?"
   ]
  },
  {
   "cell_type": "code",
   "execution_count": null,
   "metadata": {},
   "outputs": [],
   "source": [
    "print(\"EL color azul aparece en la lista\", colores.count(\"azul\"), \"vez\")"
   ]
  },
  {
   "cell_type": "markdown",
   "metadata": {},
   "source": [
    "4. Añade el color \"morado\" a la tupla colores. ¿Qué ha pasado? ¿Por qué? Como podríamos \n",
    "añadir el elemento \"morado\""
   ]
  },
  {
   "cell_type": "code",
   "execution_count": 54,
   "metadata": {},
   "outputs": [
    {
     "name": "stdout",
     "output_type": "stream",
     "text": [
      "Esta es la lista con el nuevo elementos ['rojo', 'verde', 'azul', 'amarillo', 'morado', 'morado']\n",
      "Esta es la tupla actualizada ('rojo', 'verde', 'azul', 'amarillo', 'morado', 'morado')\n"
     ]
    }
   ],
   "source": [
    "#print(\"La lista actualizada es:\", colores.append(\"morado\")\n",
    "\n",
    "#Las tuplas son inmutables por ende debemos convertir a una lista realizar los cambios y convertirla\n",
    "#de nuevo a tupla\n",
    "\n",
    "lista_colores = list(colores)\n",
    "\n",
    "lista_colores.append(\"morado\")\n",
    "\n",
    "print(\"Esta es la lista con el nuevo elementos\", lista_colores)\n",
    "\n",
    "colores = tuple(lista_colores)\n",
    "\n",
    "print(\"Esta es la tupla actualizada\", colores)"
   ]
  },
  {
   "cell_type": "markdown",
   "metadata": {},
   "source": [
    "1. Crea un diccionario llamado frutas con las siguientes parejas clave-valor:\n",
    "o 'manzana': 2\n",
    "o 'banana': 3\n",
    "o 'uva': 5\n",
    "o 'pera': 4"
   ]
  },
  {
   "cell_type": "code",
   "execution_count": 55,
   "metadata": {},
   "outputs": [
    {
     "name": "stdout",
     "output_type": "stream",
     "text": [
      "Este es el diccionario creado {'manzana': 2, 'banana': 3, 'uva': 5, 'pera': 4}\n"
     ]
    }
   ],
   "source": [
    "frutas = { 'manzana': 2,  'banana': 3,  'uva': 5,  'pera': 4}\n",
    "\n",
    "print(\"Este es el diccionario creado\", frutas)"
   ]
  },
  {
   "cell_type": "markdown",
   "metadata": {},
   "source": [
    "2. Saca una lista de todas las frutas en el diccionario."
   ]
  },
  {
   "cell_type": "code",
   "execution_count": 56,
   "metadata": {},
   "outputs": [
    {
     "name": "stdout",
     "output_type": "stream",
     "text": [
      "Estas son las frutas que debemos comprar dict_keys(['manzana', 'banana', 'uva', 'pera'])\n"
     ]
    }
   ],
   "source": [
    "print(\"Estas son las frutas que debemos comprar\", frutas.keys() )"
   ]
  },
  {
   "cell_type": "markdown",
   "metadata": {},
   "source": [
    "3. Saca una lista de todas las cantidades en el diccionario."
   ]
  },
  {
   "cell_type": "code",
   "execution_count": 58,
   "metadata": {},
   "outputs": [
    {
     "name": "stdout",
     "output_type": "stream",
     "text": [
      "Estas son las cantidades que tenemos dict_values([2, 3, 5, 4])\n"
     ]
    }
   ],
   "source": [
    "print(\"Estas son las cantidades que tenemos\", frutas.values() )"
   ]
  },
  {
   "cell_type": "markdown",
   "metadata": {},
   "source": [
    "4. ¿Qué cantidad de 'manzana' tenemos?. Si la clave 'manzana' no está presente, devuelve un mensaje diciendo \"No existe esa clave\"."
   ]
  },
  {
   "cell_type": "code",
   "execution_count": 68,
   "metadata": {},
   "outputs": [
    {
     "name": "stdout",
     "output_type": "stream",
     "text": [
      "Tenemos 2 manzanas\n"
     ]
    }
   ],
   "source": [
    "#print(\"Tenemos\", frutas[\"manzana\"], \"manzanas\")\n",
    "\n",
    "print(\"Tenemos\", frutas.get(\"manzana\", \"No existe esa clave\"), \"manzanas\")\n"
   ]
  },
  {
   "cell_type": "markdown",
   "metadata": {},
   "source": [
    "5. Agrega un nuevo par de clave-valor al diccionario frutas: 'kiwi' con una cantidad de 6."
   ]
  },
  {
   "cell_type": "code",
   "execution_count": 69,
   "metadata": {},
   "outputs": [
    {
     "name": "stdout",
     "output_type": "stream",
     "text": [
      "Esta es nuestra listado de frutas actualizado: {'manzana': 2, 'banana': 3, 'uva': 5, 'pera': 4, 'kiwi': 6}\n"
     ]
    }
   ],
   "source": [
    "frutas.update({'kiwi':6})\n",
    "\n",
    "print(\"Esta es nuestra listado de frutas actualizado:\", frutas)"
   ]
  },
  {
   "cell_type": "markdown",
   "metadata": {},
   "source": [
    "6. Cambia la cantidad de 'uva' a 8."
   ]
  },
  {
   "cell_type": "code",
   "execution_count": 74,
   "metadata": {},
   "outputs": [
    {
     "name": "stdout",
     "output_type": "stream",
     "text": [
      "Hemos actualizado la cantidad de uvas {'manzana': 2, 'banana': 3, 'uva': 8, 'pera': 4, 'kiwi': 6}\n"
     ]
    }
   ],
   "source": [
    "frutas.pop(2)\n",
    "frutas['uva'] = 8\n",
    "\n",
    "print(\"Hemos actualizado la cantidad de uvas\", frutas)"
   ]
  },
  {
   "cell_type": "markdown",
   "metadata": {},
   "source": [
    "7. Crea un segundo diccionario llamado frutas_nuevas con las siguientes parejas clave-valor:\n",
    "o 'sandía': 7\n",
    "o 'mango': 4"
   ]
  },
  {
   "cell_type": "code",
   "execution_count": 75,
   "metadata": {},
   "outputs": [
    {
     "name": "stdout",
     "output_type": "stream",
     "text": [
      "El nuevo listado de frutas es {'sandía': 7, 'mango': 4}\n"
     ]
    }
   ],
   "source": [
    "frutas_nuevas ={'sandía': 7, 'mango' : 4}\n",
    "\n",
    "print(\"El nuevo listado de frutas es\", frutas_nuevas)\n",
    "\n"
   ]
  },
  {
   "cell_type": "markdown",
   "metadata": {},
   "source": [
    "8. Combinar los dos diccionarios frutas_nuevas y frutas en uno nuevos llamado frutas_total."
   ]
  },
  {
   "cell_type": "code",
   "execution_count": 112,
   "metadata": {},
   "outputs": [
    {
     "name": "stdout",
     "output_type": "stream",
     "text": [
      "Este es el listado actualizado {'sandía': 7, 'mango': 4, 'manzana': 2, 'banana': 3, 'uva': 8, 'pera': 4, 'kiwi': 6}\n"
     ]
    }
   ],
   "source": [
    "frutas_total = frutas_nuevas | frutas \n",
    "print(\"Este es el listado actualizado\", frutas_total)"
   ]
  },
  {
   "cell_type": "markdown",
   "metadata": {},
   "source": [
    "9. Elimina el último par de clave-valor del diccionario fruta_total."
   ]
  },
  {
   "cell_type": "code",
   "execution_count": 115,
   "metadata": {},
   "outputs": [
    {
     "name": "stdout",
     "output_type": "stream",
     "text": [
      "Listado de frutas actulizados, despues de borrar el ultimo elemento {'sandía': 7, 'mango': 4, 'manzana': 2, 'banana': 3, 'uva': 8, 'pera': 4}\n"
     ]
    }
   ],
   "source": [
    "frutas_total.pop('kiwi')\n",
    "\n",
    "print(\"Listado de frutas actulizados, despues de borrar el ultimo elemento\", frutas_total)"
   ]
  },
  {
   "cell_type": "markdown",
   "metadata": {},
   "source": [
    "10. Elimina el par de clave-valor correspondiente a la clave 'uva' del diccionario."
   ]
  },
  {
   "cell_type": "code",
   "execution_count": 116,
   "metadata": {},
   "outputs": [
    {
     "name": "stdout",
     "output_type": "stream",
     "text": [
      "Listado de frutas despues de borrar a uva {'sandía': 7, 'mango': 4, 'manzana': 2, 'banana': 3, 'pera': 4}\n"
     ]
    }
   ],
   "source": [
    "frutas_total.pop(\"uva\")\n",
    "print(\"Listado de frutas despues de borrar a uva\", frutas_total)"
   ]
  },
  {
   "cell_type": "markdown",
   "metadata": {},
   "source": [
    "1. Agregar la fruta 'manzana' con una cantidad de 10 al diccionario. Si ya existe, no se realizarán "
   ]
  },
  {
   "cell_type": "code",
   "execution_count": null,
   "metadata": {},
   "outputs": [],
   "source": []
  },
  {
   "cell_type": "markdown",
   "metadata": {},
   "source": [
    "Parte 5: Métodos de Sets\n",
    "13. Crea un set llamado conjunto1 con los números del 1 al 5."
   ]
  },
  {
   "cell_type": "code",
   "execution_count": 78,
   "metadata": {},
   "outputs": [],
   "source": [
    "conjunto1  = {1, 2, 3, 4, 5} \n",
    "\n"
   ]
  },
  {
   "cell_type": "markdown",
   "metadata": {},
   "source": [
    "14. Crea otro set llamado conjunto2 con los números del 4 al 8."
   ]
  },
  {
   "cell_type": "code",
   "execution_count": 79,
   "metadata": {},
   "outputs": [],
   "source": [
    "conjunto2 = {4, 5, 6, 7, 8}"
   ]
  },
  {
   "cell_type": "markdown",
   "metadata": {},
   "source": [
    "15. Obtén la unión de conjunto1 y conjunto2."
   ]
  },
  {
   "cell_type": "code",
   "execution_count": 80,
   "metadata": {},
   "outputs": [
    {
     "name": "stdout",
     "output_type": "stream",
     "text": [
      "Esta es la union de los dos conjuntos {1, 2, 3, 4, 5, 6, 7, 8}\n"
     ]
    }
   ],
   "source": [
    "conjuntos = conjunto1.union(conjunto2)\n",
    "\n",
    "print(\"Esta es la union de los dos conjuntos\", conjuntos)"
   ]
  },
  {
   "cell_type": "markdown",
   "metadata": {},
   "source": [
    "16. Obtén la intersección de conjunto1 y conjunto2."
   ]
  },
  {
   "cell_type": "code",
   "execution_count": 82,
   "metadata": {},
   "outputs": [
    {
     "name": "stdout",
     "output_type": "stream",
     "text": [
      "Esta es la interccion de los conjuntos {4, 5}\n"
     ]
    }
   ],
   "source": [
    "inter = conjunto1.intersection(conjunto2)\n",
    "\n",
    "print(\"Esta es la interccion de los conjuntos\", inter)"
   ]
  },
  {
   "cell_type": "markdown",
   "metadata": {},
   "source": [
    "17. Obtén los elementos que están en conjunto1 pero no en el conjunto2."
   ]
  },
  {
   "cell_type": "code",
   "execution_count": 83,
   "metadata": {},
   "outputs": [
    {
     "name": "stdout",
     "output_type": "stream",
     "text": [
      "Los elementos que estan en el conjunto 1 pero no en el conjunto 2 son {1, 2, 3}\n"
     ]
    }
   ],
   "source": [
    "dif = conjunto1.difference(conjunto2)\n",
    "\n",
    "print(\"Los elementos que estan en el conjunto 1 pero no en el conjunto 2 son\", dif)"
   ]
  },
  {
   "cell_type": "markdown",
   "metadata": {},
   "source": [
    "Parte 6: Sentencias de Control\n",
    "- Ejercicio 1: Evaluación de Edades:\n",
    "o Escribe un programa que solicite al usuario ingresar su edad.\n",
    "o Si la edad es menor de 18, muestra \"Eres menor de edad\".\n",
    "o Si la edad está entre 18 y 65 (incluyendo ambos extremos), muestra \"Eres adulto\".\n",
    "o Si la edad es mayor que 65, muestra \"Eres un adulto mayor\".\n"
   ]
  },
  {
   "cell_type": "code",
   "execution_count": 86,
   "metadata": {},
   "outputs": [
    {
     "name": "stdout",
     "output_type": "stream",
     "text": [
      "eres adulto mayor\n"
     ]
    }
   ],
   "source": [
    "edad = int(input(\"Por favor ingresa tu edad\"))\n",
    "\n",
    "if edad < 18 :\n",
    "    print(\"Eres menor de edad\")\n",
    "\n",
    "elif edad >= 18 and edad <=65 :\n",
    "    print(\"Eres Adulto\")\n",
    "\n",
    "else :\n",
    "    print(\"Eres adulto mayor\")\n",
    "\n",
    "\n"
   ]
  },
  {
   "cell_type": "markdown",
   "metadata": {},
   "source": [
    "Ejercicio 2: Determinación de Día de la Semana\n",
    "o Solicita al usuario que ingrese un número del 1 al 7.\n",
    "o Utilizando una serie de if-elif-else, muestra el día de la semana correspondiente al \n",
    "número ingresado. Por ejemplo, si ingresa 1, muestra \"Lunes\"."
   ]
  },
  {
   "cell_type": "code",
   "execution_count": 95,
   "metadata": {},
   "outputs": [
    {
     "name": "stdout",
     "output_type": "stream",
     "text": [
      "El numero ingresado es incorrecto\n"
     ]
    }
   ],
   "source": [
    "dia = int(input(\"Por favor ingrese un numero del 1 al 7\"))\n",
    "\n",
    "if dia == 1 :\n",
    "    print(\"Es Lunes\")\n",
    "\n",
    "elif dia == 2 :\n",
    "    print(\"Es Martes\")\n",
    "\n",
    "elif dia == 3 :\n",
    "    print(\"Es Miercoles\")\n",
    "\n",
    "elif dia == 4 :\n",
    "    print(\"Es Jueves\")\n",
    "\n",
    "elif dia == 5 :\n",
    "    print(\"Es viernes\")\n",
    "\n",
    "elif dia == 6 :\n",
    "    print(\"Es Sabado\")\n",
    "\n",
    "elif dia == 7:\n",
    "    print(\"Es Domingo\")\n",
    "\n",
    "\n",
    "#Esto hara el programa si el usuario ingresa un numero que no este entre el 1 y el 7\n",
    "else :\n",
    "    print(\"El numero ingresado es incorrecto\")\n",
    "\n",
    "\n",
    "\n",
    "\n"
   ]
  },
  {
   "cell_type": "markdown",
   "metadata": {},
   "source": [
    "- Ejercicio 3: Juego de Adivinanza\n",
    "o Genera un número aleatorio entre 1 y 100.\n",
    "o Pídele al usuario que adivine el número.\n",
    "o Si el usuario adivina correctamente en el primer intento, muestra \"¡Ganaste en el primer \n",
    "intento!\".\n",
    "o Si el usuario no adivina en el primer intento, bríndale pistas (mayor o menor) y permite \n",
    "que intente nuevamente. Muestra cuántos intentos le llevó al final."
   ]
  },
  {
   "cell_type": "code",
   "execution_count": 101,
   "metadata": {},
   "outputs": [
    {
     "name": "stdout",
     "output_type": "stream",
     "text": [
      "Ganaste en el primer intento\n"
     ]
    }
   ],
   "source": [
    "num_secreto = 50\n",
    "\n",
    "intentos = 1\n",
    "\n",
    "\n",
    "while intentos <= 3:\n",
    "\n",
    "    intentos += 1  \n",
    "\n",
    "    num_usuario =int(input(\"Adivina el numero secreto, por favor escribe el numero que crees que es\"))\n",
    "\n",
    "    if num_usuario >= 1 and num_usuario <= 100 :\n",
    "        \n",
    "        if num_usuario != num_secreto :\n",
    "            print(\"Es incorrecto\") \n",
    "\n",
    "            if num_usuario < num_secreto :\n",
    "                print(\"El numero es mayor que\", num_usuario)\n",
    "            \n",
    "            else :\n",
    "                print(\"El numero es menor\", num_usuario)\n",
    "        \n",
    "               \n",
    "        else:\n",
    "            print(\"Ganaste en el primer intento\")\n",
    "\n",
    "            break\n",
    "\n",
    "    else :\n",
    "        print(\"Error de datos\")\n",
    "        break \n",
    "\n",
    "else :\n",
    "    print(\"Ha superado el numero de opciones\") \n",
    "        \n",
    "    \n"
   ]
  },
  {
   "cell_type": "markdown",
   "metadata": {},
   "source": [
    "- Ejercicio 4: Juego de Adivinar la Palabra\n",
    "o Elige una palabra secreta y ocúltala utilizando asteriscos, por ejemplo, \"secreto\" se \n",
    "muestra como \"*******\".\n",
    "o Permite al usuario adivinar letras una por una.\n",
    "o Si la letra adivinada está en la palabra secreta, muestra la palabra con las letras \n",
    "descubiertas y los asteriscos.\n",
    "o Si la letra no está en la palabra secreta, resta una vida al jugador.\n",
    "o El juego continúa hasta que el jugador adivine la palabra"
   ]
  },
  {
   "cell_type": "code",
   "execution_count": 106,
   "metadata": {},
   "outputs": [
    {
     "name": "stdout",
     "output_type": "stream",
     "text": [
      "a ***\n",
      "m ***\n",
      "o ***\n",
      "has perdido\n"
     ]
    }
   ],
   "source": [
    "palabra_secreta = 'amor'\n",
    "\n",
    "intentos = 1\n",
    "\n",
    "\n",
    "while intentos <= 3:\n",
    "\n",
    "     \n",
    "\n",
    "    w_usuario = input(\"Adivina la palabra secreta, pista: Este sentimiento une al mundo!!. '****'. Indica la letra que cres que esta\" )\n",
    "\n",
    "    if w_usuario in palabra_secreta :\n",
    "        print(w_usuario,\"***\") \n",
    "\n",
    "    elif w_usuario in palabra_secreta:\n",
    "        print(\"a\",w_usuario,\"**\")\n",
    "\n",
    "    elif  w_usuario in palabra_secreta:\n",
    "        print(\"a\",\"m\",w_usuario,\"*\") \n",
    "\n",
    "    elif  w_usuario in palabra_secreta:\n",
    "        print(\"a\",\"m\", \"o\",w_usuario,\"*\", \"Has completado la palabra\")\n",
    "\n",
    "        break\n",
    "            \n",
    "    else :\n",
    "        \n",
    "        print(\"Tienes una vida menos\")\n",
    "    \n",
    "    intentos += 1 \n",
    "else :\n",
    "    print(\"has perdido\")\n",
    "        \n",
    "               \n",
    "        \n",
    "\n",
    "    \n"
   ]
  }
 ],
 "metadata": {
  "kernelspec": {
   "display_name": "base",
   "language": "python",
   "name": "python3"
  },
  "language_info": {
   "codemirror_mode": {
    "name": "ipython",
    "version": 3
   },
   "file_extension": ".py",
   "mimetype": "text/x-python",
   "name": "python",
   "nbconvert_exporter": "python",
   "pygments_lexer": "ipython3",
   "version": "3.12.4"
  }
 },
 "nbformat": 4,
 "nbformat_minor": 2
}
